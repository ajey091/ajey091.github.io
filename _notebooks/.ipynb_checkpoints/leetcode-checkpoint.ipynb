{
 "cells": [
  {
   "cell_type": "markdown",
   "id": "4c6e6b2c",
   "metadata": {},
   "source": [
    "----\n",
    "layout: page\n",
    "title: Leetcode\n",
    "permalink: /leetcode/\n",
    "\n",
    "----"
   ]
  },
  {
   "cell_type": "code",
   "execution_count": 2,
   "id": "7ddc0e0f",
   "metadata": {},
   "outputs": [
    {
     "name": "stdout",
     "output_type": "stream",
     "text": [
      "[2, 1]\n"
     ]
    }
   ],
   "source": [
    "# 2sum\n",
    "def twosum(nums, target):\n",
    "    d = {}\n",
    "    for i in range(len(nums)):\n",
    "        if target - nums[i] in d:\n",
    "            return [i,d[target-nums[i]]]\n",
    "        else:\n",
    "            d[nums[i]] = i\n",
    "\n",
    "            \n",
    "print (twosum([1,2,3,6],5))"
   ]
  },
  {
   "cell_type": "code",
   "execution_count": null,
   "id": "3e44d438",
   "metadata": {},
   "outputs": [],
   "source": []
  }
 ],
 "metadata": {
  "kernelspec": {
   "display_name": "Python 3",
   "language": "python",
   "name": "python3"
  },
  "language_info": {
   "codemirror_mode": {
    "name": "ipython",
    "version": 3
   },
   "file_extension": ".py",
   "mimetype": "text/x-python",
   "name": "python",
   "nbconvert_exporter": "python",
   "pygments_lexer": "ipython3",
   "version": "3.9.10"
  }
 },
 "nbformat": 4,
 "nbformat_minor": 5
}
